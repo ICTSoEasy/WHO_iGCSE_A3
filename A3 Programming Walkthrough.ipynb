{
 "cells": [
  {
   "cell_type": "markdown",
   "metadata": {},
   "source": [
    "### Walkthrough for iGCSE Computer Science\n",
    "## Assignment 3 - Programming Task"
   ]
  },
  {
   "cell_type": "markdown",
   "metadata": {},
   "source": [
    "Programs are essentially:\n",
    "\n",
    "- Making some boxes to hold stuff in – we call the boxes variables because they can change.\n",
    "- Doing some things to change the stuff in the boxes\n",
    "- Telling the user what the stuff in the boxes is\n",
    "\n",
    "If we keep this in mind, the only tricky bits are:\n",
    "- Remembering key words and syntax\n",
    "- Figuring out how to do the changes we’re asked. This is normally just a bit of maths."
   ]
  },
  {
   "cell_type": "markdown",
   "metadata": {},
   "source": [
    "## Question 1\n",
    "A nice simple one to start with. Write some code that asks the user to input the day of the week\n",
    "in three-letter format: Mon, Tue, Wed etc. Then write an IF statement that will output “Hooray –\n",
    "it’s the weekend!” if the day is Sat or Sun (it will do nothing if any other day is input).\n",
    "\n",
    "What are the steps?\n",
    "1. Ask for the day of the week in three-letter format\n",
    "2. Write an IF statement to check if it is Sat or Sun\n",
    "3. Output a statement IF the expression is true\n",
    "\n",
    "How do we do point 1?\n",
    "- Create a `variable` - let's call it day - to stor the input in.\n",
    "- Use the `assignment operator` = to assign it a value\n",
    "- We want the user to type something in - so we use `input()`\n",
    "- And we want to give the user an instruction - we include this inside the `input()` function as a `'string'`"
   ]
  },
  {
   "cell_type": "code",
   "execution_count": null,
   "metadata": {},
   "outputs": [],
   "source": [
    "day = input('Enter the day of the week in three-letter form')"
   ]
  },
  {
   "cell_type": "markdown",
   "metadata": {},
   "source": [
    "How do we do point 2?\n",
    "- We are going to do a test - so if \n",
    "- We need to do **two** tests - rememeber everything we want to test against is a seperate test - and we are testing whether day **is equal to** a string. So if `day == 'Sat'` or `day == 'Sun'`\n",
    "- Every time we do an if, we end with a `:` to tell it the next line is what we do IF it is true"
   ]
  },
  {
   "cell_type": "code",
   "execution_count": null,
   "metadata": {},
   "outputs": [],
   "source": [
    "if day == 'Sat' or day == 'Sun':\n",
    "    pass #I've put this here so the program doesn't crash when you run it!"
   ]
  },
  {
   "cell_type": "markdown",
   "metadata": {},
   "source": [
    "What about the third point? Well that is just ouputting a message with the `print()` function"
   ]
  },
  {
   "cell_type": "code",
   "execution_count": null,
   "metadata": {},
   "outputs": [],
   "source": [
    "print(\"Hooray - it's the Weekend!\")"
   ]
  },
  {
   "cell_type": "markdown",
   "metadata": {},
   "source": [
    "Let's put it all together"
   ]
  },
  {
   "cell_type": "code",
   "execution_count": null,
   "metadata": {},
   "outputs": [],
   "source": [
    "day = input('Enter the day of the week in three-letter form')\n",
    "if day == 'Sat' or day == 'Sun':\n",
    "    print(\"Hooray - it's the Weekend!\")"
   ]
  },
  {
   "cell_type": "markdown",
   "metadata": {},
   "source": [
    "What could go wrong?\n",
    "1. Quite often people put the wrong 'questions' in the if:\n",
    "`if day == 'Sat' or 'Sun':`\n",
    "Every 'test' or 'question' has to be self contained. If we put brackets around it...\n",
    "`if (day == 'Sat') or ('Sun'):` it just doesn't read right, does it?\n",
    "\n",
    "2. People may mis-capitalise. If I type in SUN then things go wrong! So what I can do is convert the user's input to upper case and then compare against upper case versions."
   ]
  },
  {
   "cell_type": "code",
   "execution_count": null,
   "metadata": {},
   "outputs": [],
   "source": [
    "day = input('Enter the day of the week in three-letter form').upper()\n",
    "if day == 'SAT' or day == 'SUN':\n",
    "    print(\"Hooray - it's the Weekend!\")"
   ]
  },
  {
   "cell_type": "markdown",
   "metadata": {},
   "source": [
    "An alternative is to create a list of possible alternatives and see if the input is in there. You can even combine the two methods!"
   ]
  },
  {
   "cell_type": "code",
   "execution_count": null,
   "metadata": {},
   "outputs": [],
   "source": [
    "day = input('Enter the day of the week in three-letter form').upper()\n",
    "if day in ['SAT','SUN']:\n",
    "    print(\"Hooray - it's the Weekend!\")"
   ]
  },
  {
   "cell_type": "markdown",
   "metadata": {},
   "source": [
    "## Question 2\n",
    "Extend the above program with an ELSE statement to print “Bad luck – back to your studies” if\n",
    "the day is anything other than Sat or Sun\n",
    "\n",
    "This is dead easy! The ELSE is underneath the IF statement - and unindented as it has just as much importance as the IF.\n",
    "\n",
    "`else:\n",
    "    put our code here`\n",
    "    \n",
    "And underneat we just need a print statement."
   ]
  },
  {
   "cell_type": "code",
   "execution_count": null,
   "metadata": {},
   "outputs": [],
   "source": [
    "#This is what I wrote originally\n",
    "day = input('Enter the day of the week in three-letter form').upper()\n",
    "if day in ['SAT','SUN']:\n",
    "    print(\"Hooray - it's the Weekend!\") #Everything indented runs IF the condition is true\n",
    "else: #else is unindented - aligned with the IF it belongs to\n",
    "    print('Bad luck - back to your studies') #And the indented things HERE belong to the ELSE"
   ]
  },
  {
   "cell_type": "markdown",
   "metadata": {},
   "source": [
    "## Question 3\n",
    "We’re going to use IF…ELIF…ELSE now. Write a program asking the user to input their exam\n",
    "score out of 100. The program will output the following grades and messages based on the\n",
    "score:\n",
    "\n",
    "| Score | Grade Awarded | Message |\n",
    "| --- | --- | --- |\n",
    "| 80 or above | A | “Excellent result” |\n",
    "| 70–79 | B | “Very good” |\n",
    "| 60–69 | C | “Good effort” |\n",
    "| 50–59 | D | “You achieved a Pass” |\n",
    "| 49 or lower | U | “Would you like to book a retake?” |\n",
    "\n",
    "Tip – you can code the middle three bands using both upper and lower limits, but it is considered better programming to just use >70 (for example). In this case, remember the importance of sequence. You don’t want a student with 99% being awarded a D grade because you’ve coded all the scores over 50 first!"
   ]
  },
  {
   "cell_type": "raw",
   "metadata": {},
   "source": [
    "Ok, so we need to think about this.\n",
    "1. Ask the user for input\n",
    "2. Test what it is, and output one of a bunch of things dpending on the result.\n",
    "\n",
    "Part 1. \n",
    "Just like the previous assignment, it's variable becomes equal to input what I ask you for, or `variable = input('a request')`. What should we call the variable? `score` seems suitable."
   ]
  },
  {
   "cell_type": "code",
   "execution_count": null,
   "metadata": {},
   "outputs": [],
   "source": [
    "score = input('Enter your score out of 100')"
   ]
  },
  {
   "cell_type": "markdown",
   "metadata": {},
   "source": [
    "But wait! What kind of data is score? As it's out of 100, it's *probably* going to be a whole number, so we need to convert that to an `integer`. We could do this as a seperate step:"
   ]
  },
  {
   "cell_type": "markdown",
   "metadata": {},
   "source": [
    "But most people prefer to combine them into one step."
   ]
  },
  {
   "cell_type": "code",
   "execution_count": null,
   "metadata": {},
   "outputs": [],
   "source": [
    "score = int(score)"
   ]
  },
  {
   "cell_type": "code",
   "execution_count": null,
   "metadata": {},
   "outputs": [],
   "source": [
    "score = int(input('Enter your scroe out of 100'))"
   ]
  },
  {
   "cell_type": "markdown",
   "metadata": {},
   "source": [
    "Now step 2. We already know we can do `if something equals somethingelse then do something else do something difference`. Did you know we can also do less than, more than, less than or equal to, more than or equal to, and not equal to? In the first one, we can do `if score is more than 80 then output \"Excellent result\"` "
   ]
  },
  {
   "cell_type": "code",
   "execution_count": null,
   "metadata": {},
   "outputs": [],
   "source": [
    "if score >= 80: #that's more than or equal to\n",
    "    print(\"Excellent result\")"
   ]
  },
  {
   "cell_type": "markdown",
   "metadata": {},
   "source": [
    "And we know we could do else... oh hang on there's a whole bunch of other things isn't there? That's ok. We can use `elif` which is short for saying `else, if something else, then...` and we can have a whole bunch of them, all having equal importance. `if something, then something, elif something different, then something different, elif something even more different, then something even more different...`.\n",
    "\n",
    "And we can have a 'catch all' for if none of these things are correct, at the end, by using an else. Check out the code!"
   ]
  },
  {
   "cell_type": "code",
   "execution_count": null,
   "metadata": {},
   "outputs": [],
   "source": [
    "if score >= 80: #that's more than or equal to\n",
    "    print(\"Excellent result\")\n",
    "elif score >= 70: #more than or equal to 70, BUT if it's 80 or more it's already dealt with. Clever eh?\n",
    "    print(\"Very good\")\n",
    "elif score >= 60: \n",
    "    print(\"Good effort\")\n",
    "elif score >= 50:\n",
    "    print(\"You achieved a Pass\")\n",
    "else: #None of the others count, so it must be < 50!\n",
    "    print(\"Would you like to book a retake?\")"
   ]
  },
  {
   "cell_type": "markdown",
   "metadata": {},
   "source": [
    "## Question 4\n",
    "Extend the last program to accept a response to the “Would you like to book a retake?” question. If the user answers ‘Y’ give the response “retake booked for tomorrow at 2pm”; if they answer ‘N’ output “you will need to book later”. If they give any other response, output “please enter ‘Y’ or ‘N’” and ask the question again.\n",
    "\n",
    "So what do we do here? \n",
    "1. We need to replace that output of \"Would you like to book a retake\" with an input, which we will assign to `wantRetake`. It's going to be a text answer, so we will leave it as a string.\n",
    "2. We need to test - using an IF - if they have entered 'Y' and if so, output a message.\n",
    "3. We need to test - using an ELIF - they have entered 'N' and if so, output a different message.\n",
    "4. Otherwise we need to ask the question all over again.\n",
    "\n",
    "Step 1 - an input just like we've done before."
   ]
  },
  {
   "cell_type": "markdown",
   "metadata": {},
   "source": [
    "wantRetake = input('Would you like to book a retake?')"
   ]
  },
  {
   "cell_type": "markdown",
   "metadata": {},
   "source": [
    "Step 2, check if they've entered Y - using equality, and if so output a message"
   ]
  },
  {
   "cell_type": "code",
   "execution_count": null,
   "metadata": {},
   "outputs": [],
   "source": [
    "if wantRetake == 'Y': #they *have* entered Y\n",
    "    print('retake booked for tomorrow at 2pm')"
   ]
  },
  {
   "cell_type": "markdown",
   "metadata": {},
   "source": [
    "Step 3, check if they've entered N, using equality and if so output a message. We *could* use another IF here, but that would hen mean our ELSE would be triggered if we enter Y because the ELSE is only associated with one IF. So we need ELIF instead"
   ]
  },
  {
   "cell_type": "code",
   "execution_count": null,
   "metadata": {},
   "outputs": [],
   "source": [
    "if wantRetake == 'Y': #they *have* entered Y\n",
    "    print('retake booked for tomorrow at 2pm')\n",
    "elif wantRetake == 'N': #they have entered N\n",
    "    print('you will need to book later')"
   ]
  },
  {
   "cell_type": "markdown",
   "metadata": {},
   "source": [
    "Finally, step 4, we need to include an else to ask the question again. In this case, we can literally just ask the question again (what an odd question that is!)"
   ]
  },
  {
   "cell_type": "code",
   "execution_count": null,
   "metadata": {},
   "outputs": [],
   "source": [
    "if wantRetake == 'Y': #they *have* entered Y\n",
    "    print('retake booked for tomorrow at 2pm')\n",
    "elif wantRetake == 'N': #they have entered N\n",
    "    print('you will need to book later')\n",
    "else: #Neither Y nor N\n",
    "    wantRetake = input('Would you like to book a retake?')"
   ]
  },
  {
   "cell_type": "markdown",
   "metadata": {},
   "source": [
    "What could we change? Well, firstly we could get rid of the capitalisation issue like we did before:"
   ]
  },
  {
   "cell_type": "code",
   "execution_count": null,
   "metadata": {},
   "outputs": [],
   "source": [
    "wantRetake = input('Would you like to book a retake?').upper()\n",
    "if wantRetake == 'Y': #they *have* entered Y\n",
    "    print('retake booked for tomorrow at 2pm')\n",
    "elif wantRetake == 'N': #they have entered N\n",
    "    print('you will need to book later')\n",
    "else: #Neither Y nor N\n",
    "    wantRetake = input('Would you like to book a retake?')"
   ]
  },
  {
   "cell_type": "markdown",
   "metadata": {},
   "source": [
    "And that second question is pointless isn't it? It doesn't *do* anything with it. We *could* paste the IF statements in again below, but that just compounds the problem; I could misenter it twice. As we want to REPEATedly ask a question UNTIL something is correct, I can write a REPEAT..UNTIL loop. \n",
    "\n",
    "You will learn more about loops in the next section of your course, including learning that Python doesn't *have* REPEAT..UNTIL loops. So we need to cheat. I'll write one here for you to see just because I *really* hate messy unfinished code."
   ]
  },
  {
   "cell_type": "code",
   "execution_count": null,
   "metadata": {},
   "outputs": [],
   "source": [
    "while True:\n",
    "    wantRetake = input('Would you like to book a retake?').upper()\n",
    "    if wantRetake == 'Y': #they *have* entered Y\n",
    "        print('retake booked for tomorrow at 2pm')\n",
    "        break\n",
    "    elif wantRetake == 'N': #they have entered N\n",
    "        print('you will need to book later')\n",
    "        break\n",
    "    else: #Neither Y nor N\n",
    "        print('Please enter Y or N')"
   ]
  }
 ],
 "metadata": {
  "kernelspec": {
   "display_name": "Python 3",
   "language": "python",
   "name": "python3"
  },
  "language_info": {
   "codemirror_mode": {
    "name": "ipython",
    "version": 3
   },
   "file_extension": ".py",
   "mimetype": "text/x-python",
   "name": "python",
   "nbconvert_exporter": "python",
   "pygments_lexer": "ipython3",
   "version": "3.7.1"
  }
 },
 "nbformat": 4,
 "nbformat_minor": 2
}
